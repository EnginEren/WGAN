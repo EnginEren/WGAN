{
 "cells": [
  {
   "cell_type": "markdown",
   "metadata": {},
   "source": [
    "#### create_hdfs.py in NAF (revisited)  "
   ]
  },
  {
   "cell_type": "code",
   "execution_count": 1,
   "metadata": {},
   "outputs": [],
   "source": [
    "import matplotlib.pyplot as plt\n",
    "import numpy as np\n",
    "from matplotlib import colors\n",
    "from matplotlib.ticker import PercentFormatter\n",
    "from matplotlib import ticker, cm\n",
    "from matplotlib.colors import LogNorm\n",
    "import h5py\n",
    "import uproot\n",
    "import logging\n",
    "import os\n",
    "\n",
    "\n",
    "#Open branch from the ntuple (look at the number after ;)\n",
    "ntuple = uproot.open('calo_hits-test.root')[\"photonSIM;1\"]\n",
    "\n",
    "\n",
    "Nevents = 1000\n",
    "\n",
    "## Select calorimeter hits and MC particle from the braches\n",
    "x = ntuple.array(\"scpox\")\n",
    "y = ntuple.array(\"scpoy\")\n",
    "z = ntuple.array(\"scpoz\")\n",
    "e = ntuple.array(\"scene\")\n",
    "mcPDG = ntuple.array(\"mcpdg\")\n",
    "mcEne = ntuple.array(\"mcene\")\n",
    "\n",
    "## Binning\n",
    "binX = np.arange(-40, 41, 5)\n",
    "binZ = np.arange(-40,41, 5)\n",
    "binY = np.arange(1800,2050,1)\n",
    "\n",
    "## 10 slices are defined\n",
    "#slices = [1810.0, 1860.0, 1870.0, 1880.0, 1892.0, 1905.0, 1918.0,\n",
    "#          1936.0, 1950.0, 1965.0, 2020.0]\n",
    "\n",
    "## 5 slices are defined\n",
    "slices = [1810.0, 1870.0, 1892.0, 1918.0, 1935.0, 2020.0]\n",
    "\n",
    "nlayers = 5\n",
    "\n",
    "## Temporary storage for numpy arrays (energy of MCgun, layer information)\n",
    "e0 = []\n",
    "l = []\n",
    "\n",
    "## Start event loop\n",
    "for i in range(0,Nevents):\n",
    "    if len(mcPDG[i]) > 7: continue     ## Reject seconday particles and intereactions.\n",
    "    fig, axs = plt.subplots(nlayers, 1, figsize=(30, 20))\n",
    "\n",
    "    #keep track of incoming mc particle's energy\n",
    "    tmp = np.reshape(mcEne[i].take([0]), (1,1))\n",
    "    e0.append(tmp)\n",
    "\n",
    "\n",
    "    layers = []\n",
    "    for j in range(0,nlayers):\n",
    "        ## find the index falling into each slice category\n",
    "        idx = np.where((y[i] > slices[j]) & (y[i] <= slices[j+1] ) )\n",
    "\n",
    "        ## extract x,z and energy (of hits)\n",
    "        xlayer = x[i].take(idx)[0]\n",
    "        zlayer = z[i].take(idx)[0]\n",
    "        elayer = e[i].take(idx)[0]\n",
    "\n",
    "        ### GeV -- > MeV conversion for cell energies\n",
    "        elayer = elayer * 1000.00\n",
    "\n",
    "        ### 2d hist is need for energy weighted distributions\n",
    "        h0 = axs[j].hist2d(xlayer, zlayer , bins=[binX,binZ], weights=elayer, norm=LogNorm(), cmap=plt.cm.jet)\n",
    "        layers.append(h0[0])\n",
    "\n",
    "\n",
    "    ## accumulate for each event\n",
    "    l.append(layers)\n",
    "    plt.close(fig)"
   ]
  },
  {
   "cell_type": "code",
   "execution_count": 2,
   "metadata": {},
   "outputs": [],
   "source": [
    "#Open HDF5 file for writing\n",
    "hf = h5py.File('gamma-test.hdf5', 'w')\n",
    "grp = hf.create_group(\"test\")\n",
    "## convert list --> numpy arrays\n",
    "layers = np.asarray(l)\n",
    "e0 = np.reshape(np.asarray(e0),(-1,1))\n",
    "\n",
    "## write to hdf5 files\n",
    "grp.create_dataset('energy', data=e0)\n",
    "grp.create_dataset('layers', data=layers)\n",
    "\n",
    "hf.close()"
   ]
  },
  {
   "cell_type": "code",
   "execution_count": 8,
   "metadata": {},
   "outputs": [],
   "source": [
    "f = h5py.File('gamma-test.hdf5', 'r')[\"test/layers\"][:]"
   ]
  },
  {
   "cell_type": "code",
   "execution_count": 17,
   "metadata": {},
   "outputs": [
    {
     "data": {
      "text/plain": [
       "(980, 5, 16, 16)"
      ]
     },
     "execution_count": 17,
     "metadata": {},
     "output_type": "execute_result"
    }
   ],
   "source": [
    "f.shape"
   ]
  },
  {
   "cell_type": "code",
   "execution_count": null,
   "metadata": {},
   "outputs": [],
   "source": []
  }
 ],
 "metadata": {
  "kernelspec": {
   "display_name": "Py3.6",
   "language": "python",
   "name": "mypy36"
  },
  "language_info": {
   "codemirror_mode": {
    "name": "ipython",
    "version": 3
   },
   "file_extension": ".py",
   "mimetype": "text/x-python",
   "name": "python",
   "nbconvert_exporter": "python",
   "pygments_lexer": "ipython3",
   "version": "3.6.9"
  }
 },
 "nbformat": 4,
 "nbformat_minor": 2
}
